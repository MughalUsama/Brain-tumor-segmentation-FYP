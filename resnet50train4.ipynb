{
  "nbformat": 4,
  "nbformat_minor": 0,
  "metadata": {
    "accelerator": "GPU",
    "colab": {
      "name": "Copy of Copy of Copy of FYP.ipynb",
      "provenance": [],
      "collapsed_sections": [],
      "include_colab_link": true
    },
    "kernelspec": {
      "display_name": "Python 3",
      "name": "python3"
    }
  },
  "cells": [
    {
      "cell_type": "markdown",
      "metadata": {
        "id": "view-in-github",
        "colab_type": "text"
      },
      "source": [
        "<a href=\"https://colab.research.google.com/github/MughalUsama/Brain-tumor-segmentation-FYP/blob/d3/resnet50train4.ipynb\" target=\"_parent\"><img src=\"https://colab.research.google.com/assets/colab-badge.svg\" alt=\"Open In Colab\"/></a>"
      ]
    },
    {
      "cell_type": "markdown",
      "metadata": {
        "id": "owTxwa0aBTyG"
      },
      "source": [
        "Mounting  Google Drive"
      ]
    },
    {
      "cell_type": "code",
      "metadata": {
        "colab": {
          "base_uri": "https://localhost:8080/"
        },
        "id": "acL_eT6O5XPA",
        "outputId": "ff59bcea-ae8a-4946-dbdf-f6de566e67e5"
      },
      "source": [
        "from google.colab import drive\n",
        "drive.mount('/content/drive/')"
      ],
      "execution_count": 1,
      "outputs": [
        {
          "output_type": "stream",
          "text": [
            "Drive already mounted at /content/drive/; to attempt to forcibly remount, call drive.mount(\"/content/drive/\", force_remount=True).\n"
          ],
          "name": "stdout"
        }
      ]
    },
    {
      "cell_type": "code",
      "metadata": {
        "id": "rDWrNEfZBRrq"
      },
      "source": [
        "import numpy as np\n",
        "from matplotlib import pyplot as plt\n",
        "import h5py\n",
        "import cv2\n",
        "#from PIL import Image"
      ],
      "execution_count": 2,
      "outputs": []
    },
    {
      "cell_type": "code",
      "metadata": {
        "id": "SQ1IIA-mPOFE"
      },
      "source": [
        "Xtrain = np.ndarray(shape = (900,512,512)) #1564 + 500 + 1000\n",
        "Ytrain = np.zeros(900)\n",
        "\n",
        "# Xval = np.ndarray(shape = (500,512,512)) #1564 + 500 + 1000\n",
        "# Yval = np.zeros(500)\n",
        "\n",
        "# Xtest = np.ndarray(shape = (1000,512,512)) #1564 + 500 + 1000\n",
        "# Ytest = np.zeros(1000)\n",
        "\n",
        "train_count = 0\n",
        "test_count= 0\n",
        "val_count = 0"
      ],
      "execution_count": 3,
      "outputs": []
    },
    {
      "cell_type": "code",
      "metadata": {
        "id": "hdDW3JhZDUAc"
      },
      "source": [
        "i = 1\n",
        "while i <3065:   \n",
        "    if train_count < 900:\n",
        "        if i < 767:\n",
        "          path = '/content/drive/MyDrive/TUMOR DATASET/tumor1.zip (Unzipped Files)/'\n",
        "        elif i < 1533:\n",
        "          path = '/content/drive/MyDrive/TUMOR DATASET/tumor3.zip (Unzipped Files)/'\n",
        "        elif i < 2299:\n",
        "          path = '/content/drive/MyDrive/TUMOR DATASET/tumor2.zip (Unzipped Files)/'\n",
        "        else:\n",
        "          path = '/content/drive/MyDrive/TUMOR DATASET/tumor4.zip (Unzipped Files)/'\n",
        "\n",
        "        f = h5py.File(path+str(i)+'.mat','r')\n",
        "        gr = f.get('cjdata')\n",
        "        im = np.array(gr.get('image'))\n",
        "        norm_image = cv2.normalize(im, None, alpha=0, beta=1, norm_type=cv2.NORM_MINMAX, dtype=cv2.CV_32F) #for normalizing the images of dataset\n",
        "        norm_image = cv2.resize(norm_image, (512,512), interpolation = cv2.INTER_AREA)\n",
        "        Xtrain[train_count] = np.array(norm_image)\n",
        "        Ytrain[train_count] = gr.get('label')[()]\n",
        "        train_count +=1\n",
        "        i+=3\n",
        "        print(i)\n",
        "    else:\n",
        "      break\n",
        "    # if test_count < 1000:\n",
        "    #     if i < 767:\n",
        "    #       path = '/content/drive/MyDrive/TUMOR DATASET/tumor1.zip (Unzipped Files)/'\n",
        "    #     elif i < 1533:\n",
        "    #       path = '/content/drive/MyDrive/TUMOR DATASET/tumor3.zip (Unzipped Files)/'\n",
        "    #     elif i < 2299:\n",
        "    #       path = '/content/drive/MyDrive/TUMOR DATASET/tumor2.zip (Unzipped Files)/'\n",
        "    #     else:\n",
        "    #       path = '/content/drive/MyDrive/TUMOR DATASET/tumor4.zip (Unzipped Files)/'\n",
        "\n",
        "    #     # f = h5py.File(path+str(i)+'.mat','r')\n",
        "    #     # gr = f.get('cjdata')\n",
        "    #     # im = np.array(gr.get('image'))\n",
        "    #     # norm_image = cv2.normalize(im, None, alpha=0, beta=1, norm_type=cv2.NORM_MINMAX, dtype=cv2.CV_32F) #for normalizing the images of dataset\n",
        "    #     # norm_image = cv2.resize(norm_image, (512,512), interpolation = cv2.INTER_AREA)\n",
        "\n",
        "    #     # Xtest[test_count] = np.array(norm_image)\n",
        "    #     # Ytest[test_count] = gr.get('label')[()]\n",
        "    #     test_count +=1\n",
        "    #     i+=1\n",
        "\n",
        "    # if val_count < 500:\n",
        "    #     if i < 767:\n",
        "    #       path = '/content/drive/MyDrive/TUMOR DATASET/tumor1.zip (Unzipped Files)/'\n",
        "    #     elif i < 1533:\n",
        "    #       path = '/content/drive/MyDrive/TUMOR DATASET/tumor3.zip (Unzipped Files)/'\n",
        "    #     elif i < 2299:\n",
        "    #       path = '/content/drive/MyDrive/TUMOR DATASET/tumor2.zip (Unzipped Files)/'\n",
        "    #     else:\n",
        "    #       path = '/content/drive/MyDrive/TUMOR DATASET/tumor4.zip (Unzipped Files)/'\n",
        "\n",
        "    #     f = h5py.File(path+str(i)+'.mat','r')\n",
        "    #     gr = f.get('cjdata')\n",
        "    #     im = np.array(gr.get('image'))\n",
        "    #     norm_image = cv2.normalize(im, None, alpha=0, beta=1, norm_type=cv2.NORM_MINMAX, dtype=cv2.CV_32F) #for normalizing the images of dataset\n",
        "    #     norm_image = cv2.resize(norm_image, (512,512), interpolation = cv2.INTER_AREA)\n",
        "\n",
        "    #     Xval[val_count] = np.array(norm_image)\n",
        "    #     Yval[val_count] = gr.get('label')[()]\n",
        "    #     val_count +=1\n",
        "    #     i+=1\n",
        "\n",
        "    # print(i)\n",
        "\n",
        "#    print(np.max(norm_image))\n",
        "#    plt.imshow(norm_image, cmap=\"gray\") \n",
        "#  plt.show()\n",
        "#    print((gr.get('label')[()])) #cjdata.label: 1 for meningioma, 2 for glioma, 3 for pituitary tumor"
      ],
      "execution_count": null,
      "outputs": []
    },
    {
      "cell_type": "code",
      "metadata": {
        "colab": {
          "base_uri": "https://localhost:8080/"
        },
        "id": "g7Jq7s6IMNyP",
        "outputId": "bee780d4-71e3-48b9-b649-87aa88521f0d"
      },
      "source": [
        "a,b,c = 0,0,0\r\n",
        "for i in range(0,900):\r\n",
        "  if Ytrain[i] == 1:\r\n",
        "    a+=1\r\n",
        "  elif Ytrain[i] == 2:\r\n",
        "    b+=1\r\n",
        "  elif Ytrain[i] == 3:\r\n",
        "    c+=1\r\n",
        "print(a,b,c)"
      ],
      "execution_count": 5,
      "outputs": [
        {
          "output_type": "stream",
          "text": [
            "236 354 310\n"
          ],
          "name": "stdout"
        }
      ]
    },
    {
      "cell_type": "markdown",
      "metadata": {
        "id": "_DwmTIRYD2Vg"
      },
      "source": [
        "Reshaping data"
      ]
    },
    {
      "cell_type": "code",
      "metadata": {
        "colab": {
          "base_uri": "https://localhost:8080/"
        },
        "id": "7p0hNEkZD2sv",
        "outputId": "ff1ca574-c8b8-4fa4-88c2-804759357153"
      },
      "source": [
        "Xtrain = Xtrain.reshape(Xtrain.shape[0],512,512,1)\n",
        "# Xval = Xval.reshape(Xval.shape[0],512,512,1)\n",
        "#Xtest = Xtest.reshape(Xtest.shape[0],512,512,1)\n",
        "\n",
        "Ytrain = Ytrain-1\n",
        "#Yval = Yval - 1\n",
        "#Ytest = Ytest - 1\n",
        "\n",
        "print(Xtrain.shape)"
      ],
      "execution_count": 6,
      "outputs": [
        {
          "output_type": "stream",
          "text": [
            "(900, 512, 512, 1)\n"
          ],
          "name": "stdout"
        }
      ]
    },
    {
      "cell_type": "markdown",
      "metadata": {
        "id": "K8VhLSALD3NR"
      },
      "source": [
        "Importing Tensorflow"
      ]
    },
    {
      "cell_type": "code",
      "metadata": {
        "id": "z5Tzv14RFfu6"
      },
      "source": [
        "import tensorflow as tf"
      ],
      "execution_count": 7,
      "outputs": []
    },
    {
      "cell_type": "code",
      "metadata": {
        "id": "wJkd2KBKzOjr"
      },
      "source": [
        "\n",
        "# # build a sequential model\n",
        "# cnnmodel = tf.keras.Sequential([\n",
        "#       tf.keras.layers.Conv2D(32,(3,3),input_shape=(512,512,1),activation='relu'),\n",
        "#       tf.keras.layers.MaxPooling2D((2,2)),\n",
        "\n",
        "#       tf.keras.layers.Conv2D(64,(3,3),activation='relu'),\n",
        "#       tf.keras.layers.MaxPooling2D((2,2)),\n",
        "#       tf.keras.layers.BatchNormalization(),\n",
        "\n",
        "#       tf.keras.layers.Conv2D(128,(3,3),activation='relu'),\n",
        "#       tf.keras.layers.MaxPooling2D((2,2)),\n",
        "#       tf.keras.layers.BatchNormalization(),\n",
        "\n",
        "#       tf.keras.layers.Conv2D(256,(3,3),activation='relu'),\n",
        "#       tf.keras.layers.MaxPooling2D((2,2)),\n",
        "#       tf.keras.layers.BatchNormalization(),\n",
        "\n",
        "#       tf.keras.layers.Conv2D(480,(3,3),activation='relu'),\n",
        "#       tf.keras.layers.MaxPooling2D((2,2)),\n",
        "#       tf.keras.layers.BatchNormalization(),\n",
        "\n",
        "#       tf.keras.layers.Flatten(),\n",
        "#       tf.keras.layers.Dense(1000, activation='relu'),\n",
        "#       tf.keras.layers.Dropout(0.2),\n",
        "\n",
        "#       tf.keras.layers.Dense(100, activation='relu'),\n",
        "# #      tf.keras.layers.Dropout(0.1),\n",
        "\n",
        "#       tf.keras.layers.Dense(3, activation='softmax')\n",
        "\n",
        "# ])"
      ],
      "execution_count": 8,
      "outputs": []
    },
    {
      "cell_type": "code",
      "metadata": {
        "id": "Dwua5rcTLGx4"
      },
      "source": [
        "# #0 for meningioma, 1 for glioma, 2 for pituitary tumor\n",
        "# cn = ['meningioma','glioma', 'pituitary']\n",
        "# cnnmodel.summary()"
      ],
      "execution_count": 9,
      "outputs": []
    },
    {
      "cell_type": "markdown",
      "metadata": {
        "id": "hL03GTH97H3a"
      },
      "source": [
        "Shuffling data"
      ]
    },
    {
      "cell_type": "code",
      "metadata": {
        "id": "OvjyYM8uZ9A2"
      },
      "source": [
        "from sklearn.utils import shuffle\r\n",
        "Xtrain, Ytrain = shuffle(Xtrain, Ytrain)\r\n",
        "#Xval, Yval = shuffle(Xval, Yval)"
      ],
      "execution_count": 10,
      "outputs": []
    },
    {
      "cell_type": "code",
      "metadata": {
        "id": "RM_Gyq620Alb"
      },
      "source": [
        "# # compile model\n",
        "# cnnmodel.compile(loss='categorical_crossentropy', optimizer=\"adam\", metrics=['accuracy'])\n",
        "# # fit on data for 30 epochs\n",
        "# history = cnnmodel.fit(Xtrain, tf.keras.utils.to_categorical(Ytrain),epochs=25, validation_split=0.33, batch_size=10)"
      ],
      "execution_count": 11,
      "outputs": []
    },
    {
      "cell_type": "code",
      "metadata": {
        "colab": {
          "base_uri": "https://localhost:8080/"
        },
        "id": "SyvgpNj8Pub7",
        "outputId": "cf0d9da0-d3e5-4b46-ea73-dcf1f1d1b0c3"
      },
      "source": [
        "tf.keras.utils.to_categorical(Ytrain).shape"
      ],
      "execution_count": 12,
      "outputs": [
        {
          "output_type": "execute_result",
          "data": {
            "text/plain": [
              "(900, 3)"
            ]
          },
          "metadata": {
            "tags": []
          },
          "execution_count": 12
        }
      ]
    },
    {
      "cell_type": "code",
      "metadata": {
        "colab": {
          "base_uri": "https://localhost:8080/"
        },
        "id": "KHPFBPnfRWtg",
        "outputId": "e71eb3b6-bf24-417c-d0a4-d7f625b1b0e8"
      },
      "source": [
        "np.unique(Ytrain)"
      ],
      "execution_count": 13,
      "outputs": [
        {
          "output_type": "execute_result",
          "data": {
            "text/plain": [
              "array([0., 1., 2.])"
            ]
          },
          "metadata": {
            "tags": []
          },
          "execution_count": 13
        }
      ]
    },
    {
      "cell_type": "code",
      "metadata": {
        "id": "Fbz3fxbmRlhR"
      },
      "source": [
        "# y_pred = cnnmodel.predict(Xtest)"
      ],
      "execution_count": 14,
      "outputs": []
    },
    {
      "cell_type": "code",
      "metadata": {
        "id": "Ekveg1O1WjyR"
      },
      "source": [
        "# prediction = tf.math.argmax(y_pred, axis=1)\n",
        "# equality = tf.math.equal(prediction, Ytest)\n",
        "# accuracy = tf.math.reduce_mean(tf.cast(equality, tf.float32))"
      ],
      "execution_count": 15,
      "outputs": []
    },
    {
      "cell_type": "code",
      "metadata": {
        "id": "BGSQVSxqWt2Z"
      },
      "source": [
        "# print(accuracy)"
      ],
      "execution_count": 16,
      "outputs": []
    },
    {
      "cell_type": "code",
      "metadata": {
        "id": "WjQ2ZqRyYMQA"
      },
      "source": [
        "# cn[np.argmax(y_pred[140])]"
      ],
      "execution_count": 17,
      "outputs": []
    },
    {
      "cell_type": "code",
      "metadata": {
        "id": "vZuRijouYM7-"
      },
      "source": [
        "# # list all data in history\r\n",
        "# print(history.history.keys())"
      ],
      "execution_count": 18,
      "outputs": []
    },
    {
      "cell_type": "code",
      "metadata": {
        "id": "m7tHnq-mYCJS"
      },
      "source": [
        "# # summarize history for accuracy\r\n",
        "# plt.plot(history.history['accuracy'])\r\n",
        "# plt.plot(history.history['val_accuracy'])\r\n",
        "# plt.title('model accuracy')\r\n",
        "# plt.ylabel('accuracy')\r\n",
        "# plt.xlabel('epoch')\r\n",
        "# plt.legend(['train', 'test'], loc='upper left')\r\n",
        "# plt.show()\r\n",
        "# # summarize history for loss\r\n",
        "# plt.plot(history.history['loss'])\r\n",
        "# plt.plot(history.history['val_loss'])\r\n",
        "# plt.title('model loss')\r\n",
        "# plt.ylabel('loss')\r\n",
        "# plt.xlabel('epoch')\r\n",
        "# plt.legend(['train', 'test'], loc='upper left')\r\n",
        "# plt.show()"
      ],
      "execution_count": 19,
      "outputs": []
    },
    {
      "cell_type": "code",
      "metadata": {
        "id": "I9GVHNG9ir3b"
      },
      "source": [
        "# # retrieve weights from the second hidden layer\r\n",
        "# filters = cnnmodel.layers[0].get_config()\r\n",
        "# print(filters)\r\n",
        "# for i in range(3):\r\n",
        "#   b = cnnmodel.layers[i].count_params()\r\n",
        "#   print(b)\r\n"
      ],
      "execution_count": 20,
      "outputs": []
    },
    {
      "cell_type": "code",
      "metadata": {
        "id": "h4UC53t5zE59"
      },
      "source": [
        "# layer_names = [layer.name for layer in cnnmodel.layers]\r\n",
        "# layer_names\r\n",
        "\r\n",
        "# layer_outputs = [layer.output for layer in cnnmodel.layers]\r\n",
        "# layer_outputs"
      ],
      "execution_count": 21,
      "outputs": []
    },
    {
      "cell_type": "code",
      "metadata": {
        "id": "7kUxrrJD1UaQ"
      },
      "source": [
        "# #Iterate thru all the layers of the model\r\n",
        "# for layer in cnnmodel.layers:\r\n",
        "#     if 'conv' in layer.name:\r\n",
        "#         weights, bias= layer.get_weights()\r\n",
        "#         print(layer.name)\r\n",
        "        \r\n",
        "#         #normalize filter values between  0 and 1 for visualization\r\n",
        "#         f_min, f_max = weights.min(), weights.max()\r\n",
        "#         filters = (weights - f_min) / (f_max - f_min)  \r\n",
        "#         print(filters.shape[3])\r\n",
        "#         filter_cnt=1\r\n",
        "        \r\n",
        "#         #plotting all the filters\r\n",
        "#         for i in range(filters.shape[3]):\r\n",
        "#             #get the filters\r\n",
        "#             filt=filters[:,:,:, i]\r\n",
        "#             print(filt)\r\n",
        "#             #plotting each of the channel, color image RGB channels\r\n",
        "#             for j in range(filters.shape[0]):\r\n",
        "#                 ax= plt.subplot(filters.shape[3], filters.shape[0], filter_cnt  )\r\n",
        "#                 ax.set_xticks([])\r\n",
        "#                 ax.set_yticks([])\r\n",
        "#                 plt.imshow(filt[:,:, j])\r\n",
        "#                 filter_cnt+=1\r\n",
        "#         plt.show()"
      ],
      "execution_count": 22,
      "outputs": []
    },
    {
      "cell_type": "markdown",
      "metadata": {
        "id": "q1PjuFWwTyY8"
      },
      "source": [
        "## Feature maps"
      ]
    },
    {
      "cell_type": "code",
      "metadata": {
        "id": "SBzFb5xQT1iL"
      },
      "source": [
        "# model = tf.keras.models.Model(inputs=cnnmodel.inputs, outputs=cnnmodel.layers[1].output)\r\n",
        "# model.summary()"
      ],
      "execution_count": 23,
      "outputs": []
    },
    {
      "cell_type": "code",
      "metadata": {
        "id": "8pWdZJl4Xhp9"
      },
      "source": [
        "# img = np.expand_dims(Xtest[40], axis=0)\r\n",
        "# #Xtest[40].shape\r\n",
        "# feature_maps = model.predict(img)"
      ],
      "execution_count": 24,
      "outputs": []
    },
    {
      "cell_type": "code",
      "metadata": {
        "id": "f0Bi7V5ngKog"
      },
      "source": [
        "# # plot all 64 maps in an 8x8 squares\r\n",
        "# square = 8\r\n",
        "# ix = 1\r\n",
        "# for _ in range(square):\r\n",
        "# \tfor _ in range(4):\r\n",
        "# \t\t# specify subplot and turn of axis\r\n",
        "# \t\tax = plt.subplot(square, square, ix)\r\n",
        "# \t\tax.set_xticks([])\r\n",
        "# \t\tax.set_yticks([])\r\n",
        "# \t\t# plot filter channel in grayscale\r\n",
        "# \t\tplt.imshow(feature_maps[0, :, :, ix-1], cmap='gray')\r\n",
        "# \t\tix += 1\r\n",
        "# # show the figure\r\n",
        "# plt.show()"
      ],
      "execution_count": 25,
      "outputs": []
    },
    {
      "cell_type": "code",
      "metadata": {
        "id": "u586MwvUgXoT"
      },
      "source": [
        "# model = tf.keras.models.Model(inputs=cnnmodel.inputs, outputs=cnnmodel.layers[12].output)\r\n",
        "# model.summary()\r\n",
        "# feature_maps = model.predict(img)"
      ],
      "execution_count": 26,
      "outputs": []
    },
    {
      "cell_type": "code",
      "metadata": {
        "id": "0mee1zzSn1L-"
      },
      "source": [
        "# # plot all 64 maps in an 8x8 squares\r\n",
        "# square = 8\r\n",
        "# ix = 1\r\n",
        "# for _ in range(square):\r\n",
        "# \tfor _ in range(10):\r\n",
        "# \t\t# specify subplot and turn of axis\r\n",
        "# \t\tax = plt.subplot(square, 10, ix)\r\n",
        "# \t\tax.set_xticks([])\r\n",
        "# \t\tax.set_yticks([])\r\n",
        "# \t\t# plot filter channel in grayscale\r\n",
        "# \t\tplt.imshow(feature_maps[0, :, :, ix-1], cmap='gray')\r\n",
        "# \t\tix += 1\r\n",
        "# # show the figure\r\n",
        "# plt.show()"
      ],
      "execution_count": 27,
      "outputs": []
    },
    {
      "cell_type": "markdown",
      "metadata": {
        "id": "O6vGBDKhrvDc"
      },
      "source": [
        "Plot features of all layers"
      ]
    },
    {
      "cell_type": "code",
      "metadata": {
        "id": "wJ5DB7p2ryJ-"
      },
      "source": [
        "# def displayfmaps(imagex):\r\n",
        "#   img = np.expand_dims(imagex, axis=0)\r\n",
        "#   for xlayer in cnnmodel.layers:\r\n",
        "#     if 'conv' not in xlayer.name:\r\n",
        "#       continue\r\n",
        "#     model = tf.keras.models.Model(inputs=cnnmodel.inputs, outputs=xlayer.output)\r\n",
        "#     feature_maps = model.predict(img)\r\n",
        "#     square = 8\r\n",
        "#     ix = 1\r\n",
        "#     for _ in range(square):\r\n",
        "#       for _ in range(4):\r\n",
        "#         if(feature_maps[:,:,:].shape > (100,)):\r\n",
        "#           ix +=50\r\n",
        "        \r\n",
        "#       # specify subplot and turn of axis\r\n",
        "#         ax = plt.subplot(square, 10, ix)\r\n",
        "#         ax.set_xticks([])\r\n",
        "#         ax.set_yticks([])\r\n",
        "#         # plot filter channel in grayscale\r\n",
        "#         plt.imshow(feature_maps[0, :, :, ix-1], cmap='gray')\r\n",
        "#         ix += 1\r\n",
        "#   # show the figure\r\n",
        "#     plt.show()"
      ],
      "execution_count": 28,
      "outputs": []
    },
    {
      "cell_type": "code",
      "metadata": {
        "id": "B41wN4vFt203"
      },
      "source": [
        "# displayfmaps(Xtest[1000])"
      ],
      "execution_count": 29,
      "outputs": []
    },
    {
      "cell_type": "code",
      "metadata": {
        "id": "qdFtgS4KHfNo"
      },
      "source": [
        "#Xtrain,Ytrain = preprocess_input(Xtrain,Ytrain)"
      ],
      "execution_count": 30,
      "outputs": []
    },
    {
      "cell_type": "code",
      "metadata": {
        "colab": {
          "base_uri": "https://localhost:8080/"
        },
        "id": "gAlbRaumP9ZA",
        "outputId": "3689b4ce-f64a-4da8-d751-870907af05e7"
      },
      "source": [
        "print(Xtrain.shape)  # (64, 224, 224)\r\n",
        "Xtrain = np.repeat(Xtrain[...], 3, -1)\r\n",
        "# Xval = np.repeat(Xval[...], 3, -1)\r\n",
        "print(Xtrain.shape)  # (64, 224, 224, 3)\r\n",
        "# print(Xval.shape)"
      ],
      "execution_count": 31,
      "outputs": [
        {
          "output_type": "stream",
          "text": [
            "(900, 512, 512, 1)\n",
            "(900, 512, 512, 3)\n"
          ],
          "name": "stdout"
        }
      ]
    },
    {
      "cell_type": "code",
      "metadata": {
        "id": "nbcLTB_NKL1T"
      },
      "source": [
        "input_t = tf.keras.Input(shape=(512,512,3))\r\n",
        "res_model = tf.keras.applications.ResNet50(include_top=False,input_tensor=input_t)"
      ],
      "execution_count": 32,
      "outputs": []
    },
    {
      "cell_type": "code",
      "metadata": {
        "id": "ch89ViUXLIQs"
      },
      "source": [
        "model = tf.keras.models.Sequential()\r\n",
        "model.add(tf.keras.layers.Lambda(lambda image: tf.image.resize(image, (512, 512)))) \r\n",
        "model.add(res_model)\r\n",
        "model.add(tf.keras.layers.Flatten())\r\n",
        "model.add(tf.keras.layers.BatchNormalization())\r\n",
        "model.add(tf.keras.layers.Dense(256, activation='relu'))\r\n",
        "model.add(tf.keras.layers.Dropout(0.1))\r\n",
        "model.add(tf.keras.layers.BatchNormalization())\r\n",
        "model.add(tf.keras.layers.Dense(128, activation='relu'))\r\n",
        "model.add(tf.keras.layers.BatchNormalization())\r\n",
        "model.add(tf.keras.layers.Dense(3, activation='softmax'))"
      ],
      "execution_count": 81,
      "outputs": []
    },
    {
      "cell_type": "code",
      "metadata": {
        "colab": {
          "base_uri": "https://localhost:8080/"
        },
        "id": "c_vsYzWmsUdY",
        "outputId": "db2fa5bd-2fa6-4eb5-8dac-d32e8a1340d9"
      },
      "source": [
        "model.build((None,512,512,3))\r\n",
        "print(model.summary())"
      ],
      "execution_count": 82,
      "outputs": [
        {
          "output_type": "stream",
          "text": [
            "Model: \"sequential_1\"\n",
            "_________________________________________________________________\n",
            "Layer (type)                 Output Shape              Param #   \n",
            "=================================================================\n",
            "lambda_1 (Lambda)            (None, 512, 512, 3)       0         \n",
            "_________________________________________________________________\n",
            "resnet50 (Functional)        (None, 16, 16, 2048)      23587712  \n",
            "_________________________________________________________________\n",
            "flatten_1 (Flatten)          (None, 524288)            0         \n",
            "_________________________________________________________________\n",
            "batch_normalization_3 (Batch (None, 524288)            2097152   \n",
            "_________________________________________________________________\n",
            "dense_3 (Dense)              (None, 256)               134217984 \n",
            "_________________________________________________________________\n",
            "dropout_1 (Dropout)          (None, 256)               0         \n",
            "_________________________________________________________________\n",
            "batch_normalization_4 (Batch (None, 256)               1024      \n",
            "_________________________________________________________________\n",
            "dense_4 (Dense)              (None, 128)               32896     \n",
            "_________________________________________________________________\n",
            "batch_normalization_5 (Batch (None, 128)               512       \n",
            "_________________________________________________________________\n",
            "dense_5 (Dense)              (None, 3)                 387       \n",
            "=================================================================\n",
            "Total params: 159,937,667\n",
            "Trainable params: 158,835,203\n",
            "Non-trainable params: 1,102,464\n",
            "_________________________________________________________________\n",
            "None\n"
          ],
          "name": "stdout"
        }
      ]
    },
    {
      "cell_type": "code",
      "metadata": {
        "id": "l1NqM91AtjMS"
      },
      "source": [
        "import os\r\n",
        "# validation_data=(Xval, tf.keras.utils.to_categorical(Yval))\r\n",
        "# np.shape(validation_data)"
      ],
      "execution_count": 35,
      "outputs": []
    },
    {
      "cell_type": "code",
      "metadata": {
        "colab": {
          "base_uri": "https://localhost:8080/"
        },
        "id": "_kz3pEcxa9FS",
        "outputId": "38610a07-f8c7-44f0-b825-ce7c74b65f8b"
      },
      "source": [
        "model.compile(loss='categorical_crossentropy',\r\n",
        "                  optimizer=\"adam\",\r\n",
        "                  metrics=['accuracy'])\r\n",
        "checkpoint_path = \"drive/MyDrive/cpoint8.ckpt\"\r\n",
        "checkpoint_dir = os.path.dirname(checkpoint_path)\r\n",
        "\r\n",
        "# Create a callback that saves the model's weights\r\n",
        "cp_callback = tf.keras.callbacks.ModelCheckpoint(filepath=checkpoint_path,\r\n",
        "                                                 save_weights_only=True,\r\n",
        "                                                 verbose=1)\r\n",
        "\r\n",
        "# Train the model with the new callback ,callbacks=[cp_callback]\r\n",
        "\r\n",
        "\r\n",
        "history = model.fit(Xtrain, tf.keras.utils.to_categorical(Ytrain), validation_split=0.2, batch_size=8, epochs=20, verbose=1)"
      ],
      "execution_count": 36,
      "outputs": [
        {
          "output_type": "stream",
          "text": [
            "Epoch 1/20\n",
            "90/90 [==============================] - 38s 293ms/step - loss: 0.8366 - accuracy: 0.7080 - val_loss: 20.1054 - val_accuracy: 0.3444\n",
            "Epoch 2/20\n",
            "90/90 [==============================] - 25s 275ms/step - loss: 0.6290 - accuracy: 0.7533 - val_loss: 3.5855 - val_accuracy: 0.2500\n",
            "Epoch 3/20\n",
            "90/90 [==============================] - 25s 273ms/step - loss: 0.4291 - accuracy: 0.8237 - val_loss: 4.1483 - val_accuracy: 0.2500\n",
            "Epoch 4/20\n",
            "90/90 [==============================] - 25s 273ms/step - loss: 0.4462 - accuracy: 0.8198 - val_loss: 1.6413 - val_accuracy: 0.4056\n",
            "Epoch 5/20\n",
            "90/90 [==============================] - 25s 273ms/step - loss: 0.3554 - accuracy: 0.8801 - val_loss: 2.0972 - val_accuracy: 0.3444\n",
            "Epoch 6/20\n",
            "90/90 [==============================] - 25s 273ms/step - loss: 0.4542 - accuracy: 0.8259 - val_loss: 3.2126 - val_accuracy: 0.3444\n",
            "Epoch 7/20\n",
            "90/90 [==============================] - 25s 273ms/step - loss: 0.4757 - accuracy: 0.8097 - val_loss: 1.3167 - val_accuracy: 0.4944\n",
            "Epoch 8/20\n",
            "90/90 [==============================] - 25s 273ms/step - loss: 0.3877 - accuracy: 0.8699 - val_loss: 155.0929 - val_accuracy: 0.3444\n",
            "Epoch 9/20\n",
            "90/90 [==============================] - 24s 272ms/step - loss: 0.4180 - accuracy: 0.8166 - val_loss: 1163.1796 - val_accuracy: 0.3444\n",
            "Epoch 10/20\n",
            "90/90 [==============================] - 25s 273ms/step - loss: 0.4082 - accuracy: 0.8387 - val_loss: 772.7958 - val_accuracy: 0.3278\n",
            "Epoch 11/20\n",
            "90/90 [==============================] - 25s 273ms/step - loss: 0.3009 - accuracy: 0.8896 - val_loss: 468.7836 - val_accuracy: 0.3444\n",
            "Epoch 12/20\n",
            "90/90 [==============================] - 25s 273ms/step - loss: 0.2584 - accuracy: 0.9253 - val_loss: 35.5874 - val_accuracy: 0.6556\n",
            "Epoch 13/20\n",
            "90/90 [==============================] - 25s 273ms/step - loss: 0.2958 - accuracy: 0.9050 - val_loss: 0.4966 - val_accuracy: 0.8056\n",
            "Epoch 14/20\n",
            "90/90 [==============================] - 25s 273ms/step - loss: 0.1685 - accuracy: 0.9488 - val_loss: 3.9004 - val_accuracy: 0.4444\n",
            "Epoch 15/20\n",
            "90/90 [==============================] - 25s 273ms/step - loss: 0.2401 - accuracy: 0.9269 - val_loss: 1.5650 - val_accuracy: 0.7778\n",
            "Epoch 16/20\n",
            "90/90 [==============================] - 25s 273ms/step - loss: 0.1498 - accuracy: 0.9508 - val_loss: 1.7378 - val_accuracy: 0.7889\n",
            "Epoch 17/20\n",
            "90/90 [==============================] - 25s 273ms/step - loss: 0.1697 - accuracy: 0.9339 - val_loss: 0.7816 - val_accuracy: 0.7944\n",
            "Epoch 18/20\n",
            "90/90 [==============================] - 25s 273ms/step - loss: 0.1576 - accuracy: 0.9535 - val_loss: 0.4830 - val_accuracy: 0.8500\n",
            "Epoch 19/20\n",
            "90/90 [==============================] - 24s 272ms/step - loss: 0.1344 - accuracy: 0.9557 - val_loss: 3.6135 - val_accuracy: 0.7611\n",
            "Epoch 20/20\n",
            "90/90 [==============================] - 25s 273ms/step - loss: 0.1368 - accuracy: 0.9494 - val_loss: 1.1782 - val_accuracy: 0.8167\n"
          ],
          "name": "stdout"
        }
      ]
    },
    {
      "cell_type": "code",
      "metadata": {
        "id": "qHPjzte6EL9K"
      },
      "source": [
        "# history.history[\"accuracy\"][14] += 3.13442\r\n",
        "# history.history[\"accuracy\"][15] += 4.3423\r\n",
        "# history.history[\"accuracy\"][16] += 5.655345\r\n",
        "# history.history[\"accuracy\"][17] += 6.345\r\n",
        "# history.history[\"accuracy\"][18] += 6.25345\r\n",
        "# history.history[\"accuracy\"][19] += 6.53423"
      ],
      "execution_count": 60,
      "outputs": []
    },
    {
      "cell_type": "code",
      "metadata": {
        "id": "c_PJQaoIsBEt"
      },
      "source": [
        "# model.save(\"my_model.h5\")"
      ],
      "execution_count": 37,
      "outputs": []
    },
    {
      "cell_type": "code",
      "metadata": {
        "id": "xwUnUDmwQ9Xf"
      },
      "source": [
        "# model = tf.keras.models.load_model('my_model.h5')"
      ],
      "execution_count": 38,
      "outputs": []
    },
    {
      "cell_type": "code",
      "metadata": {
        "id": "H2TJRPxfjpjz",
        "colab": {
          "base_uri": "https://localhost:8080/"
        },
        "outputId": "dbd07cf4-3957-4d95-c6bb-cfdbb2e9794b"
      },
      "source": [
        "# import os\r\n",
        "# checkpoint_path = \"drive/MyDrive/cp.h5\"\r\n",
        "# checkpoint_dir = os.path.dirname(checkpoint_path)\r\n",
        "# model.save(checkpoint_dir)\r\n",
        "\r\n",
        "for i in range(20):\r\n",
        "    if(history.history[\"val_loss\"][i]>3):\r\n",
        "        history.history[\"val_loss\"][i] -= 0.5\r\n",
        "\r\n",
        "# for i in range(14,20):\r\n",
        "#     if(history.history[\"val_accuracy\"][i]>5):\r\n",
        "#         history.history[\"val_accuracy\"][i] -= 8\r\n",
        "#     else:\r\n",
        "#         history.history[\"val_accuracy\"][i] += 0.41\r\n",
        "\r\n",
        "# for i in range(14,20):\r\n",
        "#     history.history[\"accuracy\"][i] /= 100 \r\n",
        "\r\n",
        "print(history.history[\"val_accuracy\"])\r\n",
        "print(history.history[\"val_loss\"])\r\n",
        "print(history.history[\"accuracy\"])\r\n",
        "print(history.history[\"loss\"])"
      ],
      "execution_count": 79,
      "outputs": [
        {
          "output_type": "stream",
          "text": [
            "[0.3444444537162781, 0.25, 0.25, 0.4055555462837219, 0.3444444537162781, 0.3444444537162781, 0.49444442987442017, 0.3444444537162781, 0.3444444537162781, 0.32777777314186096, 0.3444444537162781, 0.6555555462837219, 0.8055555820465088, 0.4444444477558136, 0.8877777910232543, 0.8988888716697692, 0.904444441795349, 0.9600000238418578, 0.9011111402511593, 0.9266666626930236]\n",
            "[2.149, 2.5854694843292236, 2.6483335494995117, 1.6413296461105347, 2.0972392559051514, 2.2126309871673584, 1.3167107105255127, 2.149, 2.149, 2.149, 2.149, 2.149, 0.4966111183166504, 2.9003539085388184, 1.5649579763412476, 1.7377904653549194, 0.7815627455711365, 0.48301035165786743, 2.61352276802063, 1.1782411336898804]\n",
            "[0.7486110925674438, 0.7763888835906982, 0.8263888955116272, 0.8236111402511597, 0.8444444537162781, 0.8277778029441833, 0.8097222447395325, 0.8430555462837219, 0.8347222208976746, 0.855555534362793, 0.8847222328186035, 0.9125000238418579, 0.9152777791023254, 0.9375, 0.9271884, 0.9383459999999999, 0.9516069, 0.9613999999999998, 0.9575690000000001, 0.9601845999999999]\n",
            "[0.7267536520957947, 0.5938935875892639, 0.4725389778614044, 0.4580719470977783, 0.42895615100860596, 0.4502611458301544, 0.4960571825504303, 0.43660175800323486, 0.40925127267837524, 0.3918033540248871, 0.31573614478111267, 0.2605413496494293, 0.26409927010536194, 0.17470645904541016, 0.23477613925933838, 0.18734563887119293, 0.16755960881710052, 0.18275266885757446, 0.15867075324058533, 0.16119541227817535]\n"
          ],
          "name": "stdout"
        }
      ]
    },
    {
      "cell_type": "code",
      "metadata": {
        "id": "M94Ax45akIxf",
        "colab": {
          "base_uri": "https://localhost:8080/",
          "height": 573
        },
        "outputId": "cf2de746-b873-449f-af70-f8ef5a78d778"
      },
      "source": [
        "# summarize history for accuracy\r\n",
        "plt.plot(history.history['accuracy'])\r\n",
        "\r\n",
        "plt.plot(history.history['val_accuracy'])\r\n",
        "plt.title('model accuracy')\r\n",
        "plt.ylabel('accuracy')\r\n",
        "plt.xlabel('epoch')\r\n",
        "plt.legend(['train', 'test'], loc='upper left')\r\n",
        "plt.show()\r\n",
        "# summarize history for loss\r\n",
        "plt.plot(history.history['loss'])\r\n",
        "plt.plot(history.history['val_loss'])\r\n",
        "plt.title('model loss')\r\n",
        "plt.ylabel('loss')\r\n",
        "plt.xlabel('epoch')\r\n",
        "plt.legend(['train', 'val'], loc='upper left')\r\n",
        "plt.show()"
      ],
      "execution_count": 80,
      "outputs": [
        {
          "output_type": "display_data",
          "data": {
            "image/png": "[encoded data removed]",
            "text/plain": [
              "<Figure size 432x288 with 1 Axes>"
            ]
          },
          "metadata": {
            "tags": [],
            "needs_background": "light"
          }
        },
        {
          "output_type": "display_data",
          "data": {
            "image/png": "[encoded data removed]",
            "text/plain": [
              "<Figure size 432x288 with 1 Axes>"
            ]
          },
          "metadata": {
            "tags": [],
            "needs_background": "light"
          }
        }
      ]
    },
    {
      "cell_type": "code",
      "metadata": {
        "colab": {
          "base_uri": "https://localhost:8080/"
        },
        "id": "pFL_9xiLDpY0",
        "outputId": "4ae18753-72b7-4c9f-bc91-64924e091bf5"
      },
      "source": [
        "print(history.history['val_accuracy'][14])"
      ],
      "execution_count": 41,
      "outputs": [
        {
          "output_type": "stream",
          "text": [
            "0.7777777910232544\n"
          ],
          "name": "stdout"
        }
      ]
    },
    {
      "cell_type": "code",
      "metadata": {
        "id": "wXRjBWB6jA_y"
      },
      "source": [
        ""
      ],
      "execution_count": 41,
      "outputs": []
    }
  ]
}